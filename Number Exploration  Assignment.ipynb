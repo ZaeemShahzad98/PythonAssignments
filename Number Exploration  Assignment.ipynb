{
 "cells": [
  {
   "cell_type": "code",
   "execution_count": 1,
   "id": "74eb20b8",
   "metadata": {},
   "outputs": [
    {
     "name": "stdout",
     "output_type": "stream",
     "text": [
      "Enter your name: Zaeem\n",
      "Enter your first favorite number: 5\n",
      "Enter your second favorite number: 8\n",
      "Enter your third favorite number: 9\n",
      "Hello, Zaeem! Let's explore your favorite numbers:\n",
      "The number 5 is odd.\n",
      "The number 5 and its square: (5, 25)\n",
      "The number 8 is even.\n",
      "The number 8 and its square: (8, 64)\n",
      "The number 9 is odd.\n",
      "The number 9 and its square: (9, 81)\n",
      "The sum of your favorite numbers is: 22\n",
      "The sum of your favorite numbers is not a prime number.\n"
     ]
    }
   ],
   "source": [
    "def check_prime(number):\n",
    "    \"\"\"Checks if a given number is prime.\"\"\"\n",
    "    if number <= 1:\n",
    "        return False\n",
    "    for i in range(2, int(number**0.5) + 1):\n",
    "        if number % i == 0:\n",
    "            return False\n",
    "    return True\n",
    "\n",
    "name = input(\"Enter your name: \")\n",
    "n1 = int(input(\"Enter your first favorite number: \"))\n",
    "n2 = int(input(\"Enter your second favorite number: \"))\n",
    "n3 = int(input(\"Enter your third favorite number: \"))\n",
    "\n",
    "numbers = [n1, n2, n3]\n",
    "\n",
    "print(f\"Hello, {name}! Let's explore your favorite numbers:\")\n",
    "\n",
    "for num in numbers:\n",
    "    if num % 2 == 0:\n",
    "        print(f\"The number {num} is even.\")\n",
    "    else:\n",
    "        print(f\"The number {num} is odd.\")\n",
    "\n",
    "    square = num * num\n",
    "    print(f\"The number {num} and its square: ({num}, {square})\")\n",
    "\n",
    "sum_of_numbers = sum(numbers)\n",
    "print(f\"The sum of your favorite numbers is: {sum_of_numbers}\")\n",
    "\n",
    "if check_prime(sum_of_numbers):\n",
    "    print(\"Wow, the sum of your favorite numbers is a prime number!\")\n",
    "else:\n",
    "    print(\"The sum of your favorite numbers is not a prime number.\")\n",
    "    "
   ]
  },
  {
   "cell_type": "code",
   "execution_count": null,
   "id": "2ff3d6aa",
   "metadata": {},
   "outputs": [],
   "source": []
  }
 ],
 "metadata": {
  "kernelspec": {
   "display_name": "Python 3 (ipykernel)",
   "language": "python",
   "name": "python3"
  },
  "language_info": {
   "codemirror_mode": {
    "name": "ipython",
    "version": 3
   },
   "file_extension": ".py",
   "mimetype": "text/x-python",
   "name": "python",
   "nbconvert_exporter": "python",
   "pygments_lexer": "ipython3",
   "version": "3.11.4"
  }
 },
 "nbformat": 4,
 "nbformat_minor": 5
}
